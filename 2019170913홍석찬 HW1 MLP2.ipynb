{
  "nbformat": 4,
  "nbformat_minor": 0,
  "metadata": {
    "colab": {
      "provenance": []
    },
    "kernelspec": {
      "name": "python3",
      "display_name": "Python 3"
    },
    "language_info": {
      "name": "python"
    }
  },
  "cells": [
    {
      "cell_type": "code",
      "execution_count": 1,
      "metadata": {
        "colab": {
          "base_uri": "https://localhost:8080/"
        },
        "id": "1D2Ng0qQc3nS",
        "outputId": "653dbfc7-29e2-44cf-eb6b-a7da9b4e096d"
      },
      "outputs": [
        {
          "output_type": "stream",
          "name": "stdout",
          "text": [
            "Mounted at /content/gdrive\n"
          ]
        }
      ],
      "source": [
        "from google.colab import drive\n",
        "drive.mount('/content/gdrive')"
      ]
    },
    {
      "cell_type": "code",
      "source": [
        "import numpy as np\n",
        "import matplotlib.pyplot as plt"
      ],
      "metadata": {
        "id": "tH-JC2hbc9S-"
      },
      "execution_count": 2,
      "outputs": []
    },
    {
      "cell_type": "code",
      "source": [
        "def tanh(x):\n",
        "    return np.tanh(x)\n",
        "\n",
        "\n",
        "\n",
        "def relu(x):\n",
        "    return np.maximum(0, x)\n",
        "\n",
        "def elu(x, alpha=1.0):\n",
        "    # If x is negative, use the ELU formula\n",
        "    return np.where(x < 0, alpha * (np.exp(x) - 1), x)\n"
      ],
      "metadata": {
        "id": "Q4PIvW_Fc92-"
      },
      "execution_count": 11,
      "outputs": []
    },
    {
      "cell_type": "code",
      "source": [
        "# Create three 4x1 arrays\n",
        "d1 = np.array([[1.2], [0.7], [1.5], [2.3]])\n",
        "d2 = np.array([[0.3], [0.1], [2.9], [1.4]])\n",
        "d3 = np.array([[0.9], [0.2], [1.4], [0.9]])\n",
        "\n",
        "# Concatenate the arrays along the second axis\n",
        "data = np.concatenate((d1, d2, d3), axis=1)\n",
        "\n",
        "print(data)"
      ],
      "metadata": {
        "colab": {
          "base_uri": "https://localhost:8080/"
        },
        "id": "L2TINgOndBqw",
        "outputId": "2ab5da65-c74d-49ca-c84d-4998953f3fd0"
      },
      "execution_count": 12,
      "outputs": [
        {
          "output_type": "stream",
          "name": "stdout",
          "text": [
            "[[1.2 0.3 0.9]\n",
            " [0.7 0.1 0.2]\n",
            " [1.5 2.9 1.4]\n",
            " [2.3 1.4 0.9]]\n"
          ]
        }
      ]
    },
    {
      "cell_type": "code",
      "source": [
        " def MLP2(data): \n",
        "  weights_1_1 = np.array([0.3, 0.3, -0.4, 1.2])\n",
        "  weights_1_2 = np.array([-0.1, -3.1, 1.4, -2.3])\n",
        "  weights_1_3 = np.array([1.1, 0.9, 1.3, 0.8])\n",
        "  weights_2_1 = np.array([0.8, 0.7, 0.3])\n",
        "  weights_2_2 = np.array([0.5, 0.1, -0.6])\n",
        "  weights_2_3 = np.array([-0.4, 0.9, 0.7]) \n",
        "  weights_3 = np.array([-0.4, 0.8, 1.2]) \n",
        "\n",
        "  z1_1 = np.dot(weights_1_1, data)\n",
        "  z1_2 = np.dot(weights_1_2, data)\n",
        "  z1_3 = np.dot(weights_1_3, data)\n",
        "\n",
        "  layer1 = np.array([z1_1, z1_2, z1_3])\n",
        "  elu_layer1 = elu(layer1)\n",
        "  print('layer1 : ', elu_layer1)\n",
        "\n",
        "  z2_1 = np.dot(weights_2_1, elu_layer1)\n",
        "  z2_2 = np.dot(weights_2_2, elu_layer1)\n",
        "  z2_3 = np.dot(weights_2_3, elu_layer1)\n",
        "  \n",
        "  layer2 = np.array([z2_1, z2_2, z2_3])\n",
        "  ReLU_layer2 = relu(layer2)\n",
        "  print('layer2 : ',ReLU_layer2)\n",
        "\n",
        "  z3 = np.dot(weights_3, ReLU_layer2)\n",
        "  print('layer3 : ', z3)\n",
        "  o= tanh(z3)\n",
        "  \n",
        " \n",
        "  return o"
      ],
      "metadata": {
        "id": "dN1PsHzMdCSG"
      },
      "execution_count": 13,
      "outputs": []
    },
    {
      "cell_type": "code",
      "source": [
        "output2 = MLP2(data)\n",
        "\n",
        "print('Output2 : ', output2)"
      ],
      "metadata": {
        "colab": {
          "base_uri": "https://localhost:8080/"
        },
        "id": "q4mwtEoBdEkC",
        "outputId": "3216c376-4650-410b-ac2f-1e67f71ad2de"
      },
      "execution_count": 14,
      "outputs": [
        {
          "output_type": "stream",
          "name": "stdout",
          "text": [
            "layer1 :  [[ 2.73        0.64        0.85      ]\n",
            " [-0.99583067  0.5        -0.55956835]\n",
            " [ 5.74        5.31        3.71      ]]\n",
            "layer2 :  [[3.20891853 2.455      1.40130216]\n",
            " [0.         0.         0.        ]\n",
            " [2.0297524  3.911      1.75338849]]\n",
            "layer3 :  [1.15213546 3.7112     1.54354532]\n",
            "Output2 :  [0.81846028 0.99880529 0.91271419]\n"
          ]
        }
      ]
    }
  ]
}