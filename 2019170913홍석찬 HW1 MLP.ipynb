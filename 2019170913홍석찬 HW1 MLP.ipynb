{
  "nbformat": 4,
  "nbformat_minor": 0,
  "metadata": {
    "colab": {
      "provenance": []
    },
    "kernelspec": {
      "name": "python3",
      "display_name": "Python 3"
    },
    "language_info": {
      "name": "python"
    }
  },
  "cells": [
    {
      "cell_type": "code",
      "execution_count": null,
      "metadata": {
        "colab": {
          "base_uri": "https://localhost:8080/"
        },
        "id": "vfU_EFl61mw3",
        "outputId": "78f4cbd9-49eb-40cd-d70d-6a5718e65672"
      },
      "outputs": [
        {
          "output_type": "stream",
          "name": "stdout",
          "text": [
            "Mounted at /content/gdrive\n"
          ]
        }
      ],
      "source": [
        "from google.colab import drive\n",
        "drive.mount('/content/gdrive')"
      ]
    },
    {
      "cell_type": "code",
      "source": [
        "import numpy as np\n",
        "import matplotlib.pyplot as plt"
      ],
      "metadata": {
        "id": "SSiXHDDNq6W4"
      },
      "execution_count": null,
      "outputs": []
    },
    {
      "cell_type": "code",
      "source": [
        "def tanh(x):\n",
        "    return np.tanh(x)\n",
        "\n",
        "\n",
        "\n",
        "def relu(x):\n",
        "    return np.maximum(0, x)\n"
      ],
      "metadata": {
        "id": "GoPtzLiPT7Cq"
      },
      "execution_count": null,
      "outputs": []
    },
    {
      "cell_type": "code",
      "source": [
        "# Create three 4x1 arrays\n",
        "d1 = np.array([[1.2], [0.7], [1.5], [2.3]])\n",
        "d2 = np.array([[0.3], [0.1], [2.9], [1.4]])\n",
        "d3 = np.array([[0.9], [0.2], [1.4], [0.9]])\n",
        "\n",
        "# Concatenate the arrays along the second axis\n",
        "data = np.concatenate((d1, d2, d3), axis=1)\n",
        "\n",
        "print(data)\n"
      ],
      "metadata": {
        "colab": {
          "base_uri": "https://localhost:8080/"
        },
        "id": "w1AFxAIjWAeP",
        "outputId": "8ca62d4f-d0c3-40cc-8899-696a05a5d794"
      },
      "execution_count": null,
      "outputs": [
        {
          "output_type": "stream",
          "name": "stdout",
          "text": [
            "[[1.2 0.3 0.9]\n",
            " [0.7 0.1 0.2]\n",
            " [1.5 2.9 1.4]\n",
            " [2.3 1.4 0.9]]\n"
          ]
        }
      ]
    },
    {
      "cell_type": "code",
      "source": [
        "\n",
        " def MLP(data): \n",
        "  weights_1_1 = np.array([0.3, 0.3, -0.4, 1.2])\n",
        "  weights_1_2 = np.array([-0.1, -3.1, 1.4, -2.3])\n",
        "  weights_1_3 = np.array([1.1, 0.9, 1.3, 0.8])\n",
        "  weights_2_1 = np.array([0.8, 0.7, 0.3])\n",
        "  weights_2_2 = np.array([0.5, 0.1, -0.6])\n",
        "  weights_2_3 = np.array([-0.4, 0.9, 0.7]) \n",
        "  weights_3 = np.array([-0.4, 0.8, 1.2]) \n",
        "\n",
        "  z1_1 = np.dot(weights_1_1, data)\n",
        "  z1_2 = np.dot(weights_1_2, data)\n",
        "  z1_3 = np.dot(weights_1_3, data)\n",
        "\n",
        "  layer1 = np.array([z1_1, z1_2, z1_3])\n",
        "  ReLU_layer1 = relu(layer1)\n",
        "  print('layer1 : ', ReLU_layer1)\n",
        "\n",
        "  z2_1 = np.dot(weights_2_1, ReLU_layer1)\n",
        "  z2_2 = np.dot(weights_2_2, ReLU_layer1)\n",
        "  z2_3 = np.dot(weights_2_3, ReLU_layer1)\n",
        "  \n",
        "  layer2 = np.array([z2_1, z2_2, z2_3])\n",
        "  ReLU_layer2 = relu(layer2)\n",
        "  print('layer2 : ',ReLU_layer2)\n",
        "\n",
        "  z3 = np.dot(weights_3, ReLU_layer2)\n",
        "  print('layer3 : ', z3)\n",
        "  o= tanh(z3)\n",
        "  \n",
        " \n",
        "  return o"
      ],
      "metadata": {
        "id": "ylj9JoJkrof6"
      },
      "execution_count": null,
      "outputs": []
    },
    {
      "cell_type": "code",
      "source": [
        "output = MLP(data)\n",
        "\n",
        "print('Output : ', output)\n"
      ],
      "metadata": {
        "colab": {
          "base_uri": "https://localhost:8080/"
        },
        "id": "P0MSDjC3Qtmq",
        "outputId": "14eb5f18-fefd-4d1d-99fb-73e211ad4506"
      },
      "execution_count": null,
      "outputs": [
        {
          "output_type": "stream",
          "name": "stdout",
          "text": [
            "layer1 :  [[2.73 0.64 0.85]\n",
            " [0.   0.5  0.  ]\n",
            " [5.74 5.31 3.71]]\n",
            "layer2 :  [[3.906 2.455 1.793]\n",
            " [0.    0.    0.   ]\n",
            " [2.926 3.911 2.257]]\n",
            "layer3 :  [1.9488 3.7112 1.9912]\n",
            "Output :  [0.96022594 0.99880529 0.96340055]\n"
          ]
        }
      ]
    }
  ]
}